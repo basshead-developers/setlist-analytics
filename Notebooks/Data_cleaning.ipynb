{
 "cells": [
  {
   "cell_type": "code",
   "execution_count": 1,
   "metadata": {},
   "outputs": [],
   "source": [
    "import numpy as np\n",
    "import pandas as pd\n",
    "import re\n",
    "import sys\n",
    "\n",
    "pd.set_option('display.max_colwidth', -1)\n",
    "np.set_printoptions(threshold=sys.maxsize)"
   ]
  },
  {
   "cell_type": "code",
   "execution_count": 63,
   "metadata": {},
   "outputs": [],
   "source": [
    "df = pd.read_excel('../Data/Raw/all_setlist_links.xlsx')\n",
    "df2 = pd.read_csv('../Data/Processed/Master_setlists.csv')"
   ]
  },
  {
   "cell_type": "code",
   "execution_count": 49,
   "metadata": {},
   "outputs": [
    {
     "name": "stdout",
     "output_type": "stream",
     "text": [
      "You have sucessfully scraped 175 setlists.\n",
      "You have 13 setlists left to scrape.\n"
     ]
    }
   ],
   "source": [
    "all_setlist_list = list(df['Link_link'].unique())\n",
    "completed_setlist_list = list(df2['url'].unique())\n",
    "\n",
    "setlists_to_go = list(set(all_setlist_list) - set(completed_setlist_list))\n",
    "print(\"You have sucessfully scraped \" + str(len(completed_setlist_list)) + \" setlists.\")\n",
    "print(\"You have \" + str(len(setlists_to_go)) + \" setlists left to scrape.\")"
   ]
  },
  {
   "cell_type": "code",
   "execution_count": 53,
   "metadata": {},
   "outputs": [
    {
     "name": "stdout",
     "output_type": "stream",
     "text": [
      "The missing setlists are:\n",
      "                                                                                       url\n",
      "0   https://www.reddit.com/r/bassnectar/wiki/interactive/setlists/2014/hudson             \n",
      "1   https://www.reddit.com/r/bassnectar/wiki/interactive/setlists/2016/EDCOrlando         \n",
      "2   https://www.reddit.com/r/bassnectar/wiki/interactive/setlists/2015/AustinWk2          \n",
      "3   https://www.reddit.com/r/bassnectar/wiki/interactive/setlists/2019/voodoo             \n",
      "4   https://www.reddit.com/r/bassnectar/wiki/interactive/setlists/2015/EDCPuertoRico      \n",
      "5   https://www.reddit.com/r/bassnectar/wiki/interactive/setlists/2015/Bumbershoot        \n",
      "6   https://www.reddit.com/r/bassnectar/wiki/interactive/setlists/2016/LiveisBeautiful    \n",
      "7   https://www.reddit.com/r/bassnectar/wiki/interactive/setlists/2015/Dancefestopia      \n",
      "8   https://www.reddit.com/r/bassnectar/wiki/interactive/setlists/2015/AustinWk1          \n",
      "9   https://www.reddit.com/r/bassnectar/wiki/interactive/setlists/2018/elements           \n",
      "10  https://www.reddit.com/r/bassnectar/wiki/interactive/setlists/2015/MIA                \n",
      "11  https://www.reddit.com/r/bassnectar/wiki/interactive/setlists/2016/NocturnalWonderland\n",
      "12  https://www.reddit.com/r/bassnectar/wiki/interactive/setlists/2016/Pemberton          \n",
      "These setlists are missing from the setlist archive.\n"
     ]
    }
   ],
   "source": [
    "# Saving these remaining setlist urls to scrape\n",
    "\n",
    "setlists_to_go_df=pd.DataFrame(setlists_to_go)\n",
    "setlists_to_go_df.columns = ['url']\n",
    "#setlists_to_go_df.to_excel('../Data/Raw/missing_setlists.xlsx')\n",
    "print('The missing setlists are:')\n",
    "print(setlists_to_go_df)\n",
    "print('These setlists are missing from the setlist archive.')"
   ]
  },
  {
   "cell_type": "code",
   "execution_count": 54,
   "metadata": {},
   "outputs": [
    {
     "data": {
      "text/html": [
       "<div>\n",
       "<style scoped>\n",
       "    .dataframe tbody tr th:only-of-type {\n",
       "        vertical-align: middle;\n",
       "    }\n",
       "\n",
       "    .dataframe tbody tr th {\n",
       "        vertical-align: top;\n",
       "    }\n",
       "\n",
       "    .dataframe thead th {\n",
       "        text-align: right;\n",
       "    }\n",
       "</style>\n",
       "<table border=\"1\" class=\"dataframe\">\n",
       "  <thead>\n",
       "    <tr style=\"text-align: right;\">\n",
       "      <th></th>\n",
       "      <th>url</th>\n",
       "      <th>Song</th>\n",
       "      <th>Event</th>\n",
       "      <th>Year</th>\n",
       "    </tr>\n",
       "  </thead>\n",
       "  <tbody>\n",
       "    <tr>\n",
       "      <th>0</th>\n",
       "      <td>https://www.reddit.com/r/bassnectar/wiki/interactive/setlists/2009/allgoodfestival</td>\n",
       "      <td>Guns n Roses - Welcome To the Jungle (Bassnectar Intro)</td>\n",
       "      <td>all good festival</td>\n",
       "      <td>2009</td>\n",
       "    </tr>\n",
       "    <tr>\n",
       "      <th>1</th>\n",
       "      <td>https://www.reddit.com/r/bassnectar/wiki/interactive/setlists/2009/allgoodfestival</td>\n",
       "      <td>Bassnectar - Heads up</td>\n",
       "      <td>all good festival</td>\n",
       "      <td>2009</td>\n",
       "    </tr>\n",
       "    <tr>\n",
       "      <th>2</th>\n",
       "      <td>https://www.reddit.com/r/bassnectar/wiki/interactive/setlists/2009/allgoodfestival</td>\n",
       "      <td>The Beatles - LSD (Bassnectar remix)</td>\n",
       "      <td>all good festival</td>\n",
       "      <td>2009</td>\n",
       "    </tr>\n",
       "    <tr>\n",
       "      <th>3</th>\n",
       "      <td>https://www.reddit.com/r/bassnectar/wiki/interactive/setlists/2009/allgoodfestival</td>\n",
       "      <td>Bassnectar - Mystery Song (2009 version)</td>\n",
       "      <td>all good festival</td>\n",
       "      <td>2009</td>\n",
       "    </tr>\n",
       "    <tr>\n",
       "      <th>4</th>\n",
       "      <td>https://www.reddit.com/r/bassnectar/wiki/interactive/setlists/2009/allgoodfestival</td>\n",
       "      <td>Modern English - I Melt With You</td>\n",
       "      <td>all good festival</td>\n",
       "      <td>2009</td>\n",
       "    </tr>\n",
       "  </tbody>\n",
       "</table>\n",
       "</div>"
      ],
      "text/plain": [
       "                                                                                  url  \\\n",
       "0  https://www.reddit.com/r/bassnectar/wiki/interactive/setlists/2009/allgoodfestival   \n",
       "1  https://www.reddit.com/r/bassnectar/wiki/interactive/setlists/2009/allgoodfestival   \n",
       "2  https://www.reddit.com/r/bassnectar/wiki/interactive/setlists/2009/allgoodfestival   \n",
       "3  https://www.reddit.com/r/bassnectar/wiki/interactive/setlists/2009/allgoodfestival   \n",
       "4  https://www.reddit.com/r/bassnectar/wiki/interactive/setlists/2009/allgoodfestival   \n",
       "\n",
       "                                                      Song              Event  \\\n",
       "0  Guns n Roses - Welcome To the Jungle (Bassnectar Intro)  all good festival   \n",
       "1  Bassnectar - Heads up                                    all good festival   \n",
       "2  The Beatles - LSD (Bassnectar remix)                     all good festival   \n",
       "3  Bassnectar - Mystery Song (2009 version)                 all good festival   \n",
       "4  Modern English - I Melt With You                         all good festival   \n",
       "\n",
       "   Year  \n",
       "0  2009  \n",
       "1  2009  \n",
       "2  2009  \n",
       "3  2009  \n",
       "4  2009  "
      ]
     },
     "execution_count": 54,
     "metadata": {},
     "output_type": "execute_result"
    }
   ],
   "source": [
    "df2.head()"
   ]
  },
  {
   "cell_type": "code",
   "execution_count": 64,
   "metadata": {},
   "outputs": [],
   "source": [
    "def get_event(cell):\n",
    "    return cell.rsplit('/', 1)[-1]\n",
    "\n",
    "def get_year(cell):\n",
    "    return re.findall('\\d{4,}',cell)[0]"
   ]
  },
  {
   "cell_type": "code",
   "execution_count": 65,
   "metadata": {},
   "outputs": [],
   "source": [
    "df2['Event'] = df2['url'].apply(get_event)\n",
    "df2['Year'] = df2['url'].apply(get_year)"
   ]
  },
  {
   "cell_type": "code",
   "execution_count": 66,
   "metadata": {},
   "outputs": [],
   "source": [
    "df2['Event'] = df2['Event'].str.lower()"
   ]
  },
  {
   "cell_type": "code",
   "execution_count": 38,
   "metadata": {},
   "outputs": [],
   "source": [
    "df = df.replace({'Event' : { 'northcoast' : 'north coast', 'springawakeningfestival' : 'spring awakening', 'edcnewyork' : 'edc new york',\n",
    "                       'electricforest_1' : 'electric forest W1', 'beinteractive' : 'be interactive', 'atlantanighttwo' : 'atlanta N2', 'basslightsnight1' : 'basslights N1',\n",
    "                       'okee' : 'okeechobee', 'hangoutfestival' : 'hangout', 'atlantanightone' : 'atlanta N1', 'BayAreaVibes' : 'Bay Area Vibes', 'nye2013' : 'new years eve',\n",
    "                       'campbiscoefestival' : 'camp bisco', 'CampBisco' : 'camp bisco', 'MoodsoftheMadison' : 'Moods of the Madison', 'freestylesessionsnight3' : 'freestyle N3',\n",
    "                       'bonnaroofestival' : 'bonnaroo', 'SecretShow2' : 'atlanta secret show', '515alive' : '515 alive', 'xgames' : 'x games', 'providenceri' : 'providence',\n",
    "                       'indianapolis2012' : 'indianapolis', 'NorthCoast' : 'North Coast', 'ultraweekendtwo' : 'ultra W2', 'electricforestfestival' : 'electric forest', 'BassCenter1' : 'BassCenter n1',\n",
    "                       'birminghamal' : 'birmingham', 'electricforest_2' : 'electric forest W2', 'oregoneclipse' : 'oregon eclipse'\n",
    "                      \n",
    "\n",
    "                      }})"
   ]
  },
  {
   "cell_type": "code",
   "execution_count": 35,
   "metadata": {},
   "outputs": [],
   "source": [
    "df = df.replace({'Event' : { 'allgoodfestival' : 'all good festival', 'forecastlemusicfestival' : 'forecastle', 'basslightsnight2' : 'basslights N2',\n",
    "                       'decadenceco' : 'decadence', 'greensboronc' : 'greensboro', 'harddayofthedead' : 'hard day of the dead', 'laketahoeca' : 'lake tahoe',\n",
    "                       'msgny' : 'madison square garden', 'newyearseve' : 'new years eve', 'redrocksnight1' : 'red rocks N1', 'sacramentoca' : 'Sacramento', 'vegass' : 'vegas',\n",
    "                       'wakarusafestival' : 'wakarusa', 'wallingfordct' : 'wallingford', 'dejavoomnighttwo' : 'deja voom N2', 'freestylenight2' : 'freestyle N2',\n",
    "                       'alpharetta_1' : 'alpharetta N1', 'alpharetta_2' : 'alpharetta N2', 'basscenter2' : 'basscenter N2', 'campbiscofestival' : 'camp bisco', 'summercamp' : 'summer camp',\n",
    "                       'burmingham2012' : 'burmingham', 'edcvegas' : 'edc vegas', 'electricforest' : 'electric forest', 'bellyup_1' : 'bellyup N1', 'bellyup_2' : 'bellyup N2',\n",
    "                       'EDCOrlando' : 'edc orlando', 'FreakyDeaky' : 'freaky deaky', 'NocturnalWonderland' : 'Nocturnal Wonderland', 'RedRocks1' : 'red rocks N1',\n",
    "                       'RedRocks2' : 'red rocks N2',  'RedRocks3' : 'Red Rocks N3', 'BassCenter2' : 'basscenter N2', 'DigitalDreams' : 'Digital Dreams',\n",
    "                       'ElectricForest' : 'electric forest', 'ElectricZoo' : 'electric zoo', 'GlobalDanceFest' : 'Global Dance Fest', 'Halloween1' : 'halloween N1',\n",
    "                       'Halloween2' : 'halloween N2', 'Halloween3' : 'halloween N3', 'NYE' : 'new years eve',\n",
    "                       'SecretShow' : 'Secret Show', 'SummerSet' : 'Summer Set', 'atlanticcity_1' : 'atlantic city N1', 'atlanticcity_2' : 'atlantic city N2',\n",
    "                       'basscenterx_1' : 'basscenter N1', 'basscenterx_2' : 'basscenter N2', 'basscenterx_3' : 'basscenter N3', 'campbisco' : 'camp bisco', 'everafter' : 'ever after',\n",
    "                       'freakydeaky' : 'freaky deaky', 'freestylesessions_1' : 'freestyle N1', 'freestylesessions_2' : 'freestyle N2',\n",
    "                       'freestylesessions_3' : 'freestyle N3', 'lightninginabottle' : 'lightning in a bottle', 'lightsallnight' : 'lights all night',\n",
    "                       'minuszero' : 'minus zero', 'nye' : 'new years eve',  'oregoneclipse_secret' : 'oregon eclipse secret set', 'themeadows' : 'the meadows', 'BCXI1' : 'basscenter N1',\n",
    "                       'BCXI2' : 'basscenter N2', 'electricforestweek1' : 'electric forest W1', 'electricforestweek2' : 'electric forest W2', 'NYE360' : 'new years eve',\n",
    "                       'floatfest' : 'float fest', 'freestylesessionsnight1' : 'freestyle N1', 'freestylesessionsnight2' : 'freestyle N2', 'okeebeach' : 'Okeechobee beach set',\n",
    "                       'springgatheringnight1' : 'spring gathering N1',  'springgatheringnight2' : 'spring gathering N2', 'summermeltdown' : 'summer meltdown', \n",
    "                       'All Good' : 'All Good festival', 'Tomorrow World' : 'TomorrowWorld',  '> Coachella Weekend 1' : 'coachella W1', '> Coachella Weekend 2' : 'coachella W2',\n",
    "                        'allgood' : 'All Good festival'\n",
    "\n",
    "                      }})"
   ]
  },
  {
   "cell_type": "code",
   "execution_count": 68,
   "metadata": {},
   "outputs": [
    {
     "name": "stdout",
     "output_type": "stream",
     "text": [
      "['515 alive', 'all good festival', 'alpharetta n1', 'alpharetta n2', 'amherst', 'atlanta n1', 'atlanta n2', 'atlantic city n1', 'atlantic city n2', 'basscenter n1', 'basscenter n2', 'basscenter n3', 'basslanta n1', 'basslanta n2', 'basslights', 'basslights n1', 'basslights n2', 'bassrush', 'bay area vibes', 'be interactive', 'bellyup n1', 'bellyup n2', 'birmingham', 'bloomington', 'bonnaroo', 'breakaway', 'buku', 'bunbury', 'burmingham', 'camp bisco', 'coachella w1', 'coachella w2', 'counterpoint', 'dancefestopia', 'day of the dead', 'decadence', 'deja voom n1', 'deja voom n2', 'deja voom n3', 'detroit', 'digital dreams', 'edc new york', 'edc orlando', 'edc vegas', 'electric forest', 'electric forest w1', 'electric forest w2', 'electric zoo', 'euphoria', 'ever after', 'float fest', 'forecastle', 'freaky deaky', 'freestyle n1', 'freestyle n2', 'freestyle n3', 'global dance fest', 'greensboro', 'halloween', 'halloween n1', 'halloween n2', 'halloween n3', 'hangout', 'hard day of the dead', 'hijinx', 'imagine', 'indianapolis', 'lake tahoe', 'lightning in a bottle', 'lights all night', 'lollapalooza', 'lowell', 'madison square garden', 'middlelands', 'minneapolis', 'minus zero', 'moods of the madison', 'moonrise', 'mysteryland', 'new years eve', 'nocturnal wonderland', 'north coast', 'okeechobee', 'okeechobee beach set', 'oregon eclipse', 'oregon eclipse secret set', 'paradiso', 'pittsburgh', 'portlandme', 'providence', 'red rocks n1', 'red rocks n2', 'red rocks n3', 'rochesterny', 'sacramento', 'sanfrancisco', 'scamp', 'shambhala', 'spring awakening', 'spring gathering n1', 'spring gathering n2', 'summer camp', 'summer meltdown', 'summer set', 'suwanee', 'symbiosis', 'the meadows', 'tomorrowworld', 'ultra', 'ultra w2', 'vegas', 'wakarusa', 'wallingford', 'x games']\n"
     ]
    }
   ],
   "source": [
    "events = df2['Event'].unique()\n",
    "print(sorted(events))"
   ]
  },
  {
   "cell_type": "code",
   "execution_count": null,
   "metadata": {},
   "outputs": [],
   "source": [
    "fullname = df['Song'].iloc[0]\n",
    "artist = df['Song'].iloc[0].split(' -')[0] \n",
    "song = df['Song'].iloc[0].split('- ')[1].split(' (')[0]\n",
    "remix = df['Song'].iloc[0].split('- ')[1].split(' (')[1][:-1]\n",
    "print(\"Original data: \" + fullname)\n",
    "print(\"Artist: \" + artist)\n",
    "print(\"Song: \" + song)\n",
    "print(\"Remix: \" + remix)"
   ]
  },
  {
   "cell_type": "code",
   "execution_count": 71,
   "metadata": {},
   "outputs": [],
   "source": [
    "# def get_artist(cell):\n",
    "#     if '-' in cell:\n",
    "#         return cell.split(' -')[0] \n",
    "#     else:\n",
    "#         return \"\""
   ]
  },
  {
   "cell_type": "code",
   "execution_count": 72,
   "metadata": {},
   "outputs": [],
   "source": [
    "# df2['Artist'] = df2['Song'].apply(get_artist)"
   ]
  },
  {
   "cell_type": "code",
   "execution_count": 70,
   "metadata": {},
   "outputs": [],
   "source": [
    "df2.to_csv('../Data/Processed/MAster_setlists.xlsx')"
   ]
  },
  {
   "cell_type": "code",
   "execution_count": null,
   "metadata": {},
   "outputs": [],
   "source": []
  }
 ],
 "metadata": {
  "kernelspec": {
   "display_name": "Python 3",
   "language": "python",
   "name": "python3"
  },
  "language_info": {
   "codemirror_mode": {
    "name": "ipython",
    "version": 3
   },
   "file_extension": ".py",
   "mimetype": "text/x-python",
   "name": "python",
   "nbconvert_exporter": "python",
   "pygments_lexer": "ipython3",
   "version": "3.6.5"
  }
 },
 "nbformat": 4,
 "nbformat_minor": 4
}
