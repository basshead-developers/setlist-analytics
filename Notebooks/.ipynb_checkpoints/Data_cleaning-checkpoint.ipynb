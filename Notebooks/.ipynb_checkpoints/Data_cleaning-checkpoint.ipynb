{
 "cells": [
  {
   "cell_type": "code",
   "execution_count": 1,
   "metadata": {},
   "outputs": [],
   "source": [
    "import numpy as np\n",
    "import pandas as pd\n",
    "import re\n",
    "\n",
    "pd.set_option('display.max_colwidth', -1)"
   ]
  },
  {
   "cell_type": "code",
   "execution_count": 35,
   "metadata": {},
   "outputs": [],
   "source": [
    "df = pd.read_excel('../Data/Raw/all_setlist_links.xlsx')\n",
    "df2 = pd.read_excel('../Data/Processed/Master_setlists.xlsx')"
   ]
  },
  {
   "cell_type": "code",
   "execution_count": 36,
   "metadata": {},
   "outputs": [
    {
     "data": {
      "text/html": [
       "<div>\n",
       "<style scoped>\n",
       "    .dataframe tbody tr th:only-of-type {\n",
       "        vertical-align: middle;\n",
       "    }\n",
       "\n",
       "    .dataframe tbody tr th {\n",
       "        vertical-align: top;\n",
       "    }\n",
       "\n",
       "    .dataframe thead th {\n",
       "        text-align: right;\n",
       "    }\n",
       "</style>\n",
       "<table border=\"1\" class=\"dataframe\">\n",
       "  <thead>\n",
       "    <tr style=\"text-align: right;\">\n",
       "      <th></th>\n",
       "      <th>url</th>\n",
       "      <th>Link</th>\n",
       "      <th>Link_link</th>\n",
       "    </tr>\n",
       "  </thead>\n",
       "  <tbody>\n",
       "    <tr>\n",
       "      <th>0</th>\n",
       "      <td>https://www.reddit.com/r/bassnectar/wiki/interactive/setlists/2019</td>\n",
       "      <td>Voodoo</td>\n",
       "      <td>https://www.reddit.com/r/bassnectar/wiki/interactive/setlists/2019/voodoo</td>\n",
       "    </tr>\n",
       "    <tr>\n",
       "      <th>1</th>\n",
       "      <td>https://www.reddit.com/r/bassnectar/wiki/interactive/setlists/2019</td>\n",
       "      <td>Bass Center XII Night 2</td>\n",
       "      <td>https://www.reddit.com/r/bassnectar/wiki/interactive/setlists/2019/basscenternight2</td>\n",
       "    </tr>\n",
       "    <tr>\n",
       "      <th>2</th>\n",
       "      <td>https://www.reddit.com/r/bassnectar/wiki/interactive/setlists/2019</td>\n",
       "      <td>Bass Center XII Night 1</td>\n",
       "      <td>https://www.reddit.com/r/bassnectar/wiki/interactive/setlists/2019/basscenternight1</td>\n",
       "    </tr>\n",
       "    <tr>\n",
       "      <th>3</th>\n",
       "      <td>https://www.reddit.com/r/bassnectar/wiki/interactive/setlists/2019</td>\n",
       "      <td>North Coast Music Festival</td>\n",
       "      <td>https://www.reddit.com/r/bassnectar/wiki/interactive/setlists/2019/northcoastmusicfestival</td>\n",
       "    </tr>\n",
       "    <tr>\n",
       "      <th>4</th>\n",
       "      <td>https://www.reddit.com/r/bassnectar/wiki/interactive/setlists/2019</td>\n",
       "      <td>Breakaway Music Festival</td>\n",
       "      <td>https://www.reddit.com/r/bassnectar/wiki/interactive/setlists/2019/Breakawaymusicfestival</td>\n",
       "    </tr>\n",
       "  </tbody>\n",
       "</table>\n",
       "</div>"
      ],
      "text/plain": [
       "                                                                  url  \\\n",
       "0  https://www.reddit.com/r/bassnectar/wiki/interactive/setlists/2019   \n",
       "1  https://www.reddit.com/r/bassnectar/wiki/interactive/setlists/2019   \n",
       "2  https://www.reddit.com/r/bassnectar/wiki/interactive/setlists/2019   \n",
       "3  https://www.reddit.com/r/bassnectar/wiki/interactive/setlists/2019   \n",
       "4  https://www.reddit.com/r/bassnectar/wiki/interactive/setlists/2019   \n",
       "\n",
       "                         Link  \\\n",
       "0  Voodoo                       \n",
       "1  Bass Center XII Night 2      \n",
       "2  Bass Center XII Night 1      \n",
       "3  North Coast Music Festival   \n",
       "4  Breakaway Music Festival     \n",
       "\n",
       "                                                                                    Link_link  \n",
       "0  https://www.reddit.com/r/bassnectar/wiki/interactive/setlists/2019/voodoo                   \n",
       "1  https://www.reddit.com/r/bassnectar/wiki/interactive/setlists/2019/basscenternight2         \n",
       "2  https://www.reddit.com/r/bassnectar/wiki/interactive/setlists/2019/basscenternight1         \n",
       "3  https://www.reddit.com/r/bassnectar/wiki/interactive/setlists/2019/northcoastmusicfestival  \n",
       "4  https://www.reddit.com/r/bassnectar/wiki/interactive/setlists/2019/Breakawaymusicfestival   "
      ]
     },
     "execution_count": 36,
     "metadata": {},
     "output_type": "execute_result"
    }
   ],
   "source": [
    "df.head()"
   ]
  },
  {
   "cell_type": "code",
   "execution_count": 37,
   "metadata": {},
   "outputs": [
    {
     "data": {
      "text/html": [
       "<div>\n",
       "<style scoped>\n",
       "    .dataframe tbody tr th:only-of-type {\n",
       "        vertical-align: middle;\n",
       "    }\n",
       "\n",
       "    .dataframe tbody tr th {\n",
       "        vertical-align: top;\n",
       "    }\n",
       "\n",
       "    .dataframe thead th {\n",
       "        text-align: right;\n",
       "    }\n",
       "</style>\n",
       "<table border=\"1\" class=\"dataframe\">\n",
       "  <thead>\n",
       "    <tr style=\"text-align: right;\">\n",
       "      <th></th>\n",
       "      <th>Unnamed: 0</th>\n",
       "      <th>url</th>\n",
       "      <th>Song</th>\n",
       "      <th>Event</th>\n",
       "      <th>Year</th>\n",
       "    </tr>\n",
       "  </thead>\n",
       "  <tbody>\n",
       "    <tr>\n",
       "      <th>0</th>\n",
       "      <td>0</td>\n",
       "      <td>https://www.reddit.com/r/bassnectar/wiki/interactive/setlists/2009/allgoodfestival</td>\n",
       "      <td>Guns n Roses - Welcome To the Jungle (Bassnectar Intro)</td>\n",
       "      <td>all good festival</td>\n",
       "      <td>2009</td>\n",
       "    </tr>\n",
       "    <tr>\n",
       "      <th>1</th>\n",
       "      <td>1</td>\n",
       "      <td>https://www.reddit.com/r/bassnectar/wiki/interactive/setlists/2009/allgoodfestival</td>\n",
       "      <td>Bassnectar - Heads up</td>\n",
       "      <td>all good festival</td>\n",
       "      <td>2009</td>\n",
       "    </tr>\n",
       "    <tr>\n",
       "      <th>2</th>\n",
       "      <td>2</td>\n",
       "      <td>https://www.reddit.com/r/bassnectar/wiki/interactive/setlists/2009/allgoodfestival</td>\n",
       "      <td>The Beatles - LSD (Bassnectar remix)</td>\n",
       "      <td>all good festival</td>\n",
       "      <td>2009</td>\n",
       "    </tr>\n",
       "    <tr>\n",
       "      <th>3</th>\n",
       "      <td>3</td>\n",
       "      <td>https://www.reddit.com/r/bassnectar/wiki/interactive/setlists/2009/allgoodfestival</td>\n",
       "      <td>Bassnectar - Mystery Song (2009 version)</td>\n",
       "      <td>all good festival</td>\n",
       "      <td>2009</td>\n",
       "    </tr>\n",
       "    <tr>\n",
       "      <th>4</th>\n",
       "      <td>4</td>\n",
       "      <td>https://www.reddit.com/r/bassnectar/wiki/interactive/setlists/2009/allgoodfestival</td>\n",
       "      <td>Modern English - I Melt With You</td>\n",
       "      <td>all good festival</td>\n",
       "      <td>2009</td>\n",
       "    </tr>\n",
       "  </tbody>\n",
       "</table>\n",
       "</div>"
      ],
      "text/plain": [
       "   Unnamed: 0  \\\n",
       "0  0            \n",
       "1  1            \n",
       "2  2            \n",
       "3  3            \n",
       "4  4            \n",
       "\n",
       "                                                                                  url  \\\n",
       "0  https://www.reddit.com/r/bassnectar/wiki/interactive/setlists/2009/allgoodfestival   \n",
       "1  https://www.reddit.com/r/bassnectar/wiki/interactive/setlists/2009/allgoodfestival   \n",
       "2  https://www.reddit.com/r/bassnectar/wiki/interactive/setlists/2009/allgoodfestival   \n",
       "3  https://www.reddit.com/r/bassnectar/wiki/interactive/setlists/2009/allgoodfestival   \n",
       "4  https://www.reddit.com/r/bassnectar/wiki/interactive/setlists/2009/allgoodfestival   \n",
       "\n",
       "                                                      Song              Event  \\\n",
       "0  Guns n Roses - Welcome To the Jungle (Bassnectar Intro)  all good festival   \n",
       "1  Bassnectar - Heads up                                    all good festival   \n",
       "2  The Beatles - LSD (Bassnectar remix)                     all good festival   \n",
       "3  Bassnectar - Mystery Song (2009 version)                 all good festival   \n",
       "4  Modern English - I Melt With You                         all good festival   \n",
       "\n",
       "   Year  \n",
       "0  2009  \n",
       "1  2009  \n",
       "2  2009  \n",
       "3  2009  \n",
       "4  2009  "
      ]
     },
     "execution_count": 37,
     "metadata": {},
     "output_type": "execute_result"
    }
   ],
   "source": [
    "df2.head()"
   ]
  },
  {
   "cell_type": "code",
   "execution_count": 42,
   "metadata": {},
   "outputs": [
    {
     "name": "stdout",
     "output_type": "stream",
     "text": [
      "You have sucessfully scraped 126 setlists.\n",
      "You have 61 setlists left to scrape.\n"
     ]
    }
   ],
   "source": [
    "all_setlist_list = list(df['Link_link'].unique())\n",
    "completed_setlist_list = list(df2['url'].unique())\n",
    "\n",
    "setlists_to_go = list(set(all_setlist_list) - set(completed_setlist_list))\n",
    "print(\"You have sucessfully scraped \" + str(len(completed_setlist_list)) + \" setlists.\")\n",
    "print(\"You have \" + str(len(setlists_to_go)) + \" setlists left to scrape.\")"
   ]
  },
  {
   "cell_type": "code",
   "execution_count": 43,
   "metadata": {},
   "outputs": [],
   "source": [
    "# Saving these remaining setlist urls to scrape\n",
    "\n",
    "setlists_to_go_df=pd.DataFrame(setlists_to_go)\n",
    "setlists_to_go_df.columns = ['url']\n",
    "setlists_to_go_df.to_excel('../Data/Raw/missing_setlists.xlsx')"
   ]
  },
  {
   "cell_type": "code",
   "execution_count": 18,
   "metadata": {},
   "outputs": [],
   "source": [
    "def get_event(cell):\n",
    "    return cell.rsplit('/', 1)[-1]\n",
    "\n",
    "def get_year(cell):\n",
    "    return re.findall('\\d{4,}',cell)[0]"
   ]
  },
  {
   "cell_type": "code",
   "execution_count": 19,
   "metadata": {},
   "outputs": [],
   "source": [
    "df['Event'] = df['url'].apply(get_event)\n",
    "df['Year'] = df['url'].apply(get_year)"
   ]
  },
  {
   "cell_type": "code",
   "execution_count": 23,
   "metadata": {},
   "outputs": [
    {
     "name": "stdout",
     "output_type": "stream",
     "text": [
      "['all good festival', 'basslights n2', 'coachella w2', 'decadence', 'forecastle', 'freestyle n2', 'greensboro', 'halloween', 'hard day of the dead', 'lake tahoe', 'madison square garden', 'new years eve', 'red rocks n1', 'sacramento', 'vegas', 'wallingford']\n"
     ]
    }
   ],
   "source": [
    "events = df['Event'].unique()\n",
    "print(sorted(events))"
   ]
  },
  {
   "cell_type": "code",
   "execution_count": 57,
   "metadata": {},
   "outputs": [],
   "source": [
    "df = df.replace({'Event' : { 'allgoodfestival' : 'all good festival', 'forecastlemusicfestival' : 'forecastle', 'basslightsnight2' : 'basslights N2',\n",
    "                       'decadenceco' : 'decadence', 'greensboronc' : 'greensboro', 'harddayofthedead' : 'hard day of the dead', 'laketahoeca' : 'lake tahoe',\n",
    "                       'msgny' : 'madison square garden', 'newyearseve' : 'new years eve', 'redrocksnight1' : 'red rocks N1', 'sacramentoca' : 'Sacramento', 'vegass' : 'vegas',\n",
    "                       'wakarusafestival' : 'wakarusa', 'wallingfordct' : 'wallingford', 'dejavoomnighttwo' : 'deja voom N2', 'freestylenight2' : 'freestyle N2',\n",
    "                       'alpharetta_1' : 'alpharetta N1', 'alpharetta_2' : 'alpharetta N2', 'basscenter2' : 'basscenter N2', 'campbiscofestival' : 'camp bisco', 'summercamp' : 'summer camp',\n",
    "                       'burmingham2012' : 'burmingham', 'edcvegas' : 'edc vegas', 'electricforest' : 'electric forest', 'bellyup_1' : 'bellyup N1', 'bellyup_2' : 'bellyup N2',\n",
    "                       'EDCOrlando' : 'edc orlando', 'FreakyDeaky' : 'freaky deaky', 'NocturnalWonderland' : 'Nocturnal Wonderland', 'RedRocks1' : 'red rocks N1',\n",
    "                       'RedRocks2' : 'red rocks N2',  'RedRocks3' : 'Red Rocks N3', 'BassCenter2' : 'basscenter N2', 'DigitalDreams' : 'Digital Dreams',\n",
    "                       'ElectricForest' : 'electric forest', 'ElectricZoo' : 'electric zoo', 'GlobalDanceFest' : 'Global Dance Fest', 'Halloween1' : 'halloween N1',\n",
    "                       'Halloween2' : 'halloween N2', 'Halloween3' : 'halloween N3', 'NYE' : 'new years eve',\n",
    "                       'SecretShow' : 'Secret Show', 'SummerSet' : 'Summer Set', 'atlanticcity_1' : 'atlantic city N1', 'atlanticcity_2' : 'atlantic city N2',\n",
    "                       'basscenterx_1' : 'basscenter N1', 'basscenterx_2' : 'basscenter N2', 'basscenterx_3' : 'basscenter N3', 'campbisco' : 'camp bisco', 'everafter' : 'ever after',\n",
    "                       'freakydeaky' : 'freaky deaky', 'freestylesessions_1' : 'freestyle N1', 'freestylesessions_2' : 'freestyle N2',\n",
    "                       'freestylesessions_3' : 'freestyle N3', 'lightninginabottle' : 'lightning in a bottle', 'lightsallnight' : 'lights all night',\n",
    "                       'minuszero' : 'minus zero', 'nye' : 'new years eve',  'oregoneclipse_secret' : 'oregon eclipse secret set', 'themeadows' : 'the meadows', 'BCXI1' : 'basscenter N1',\n",
    "                       'BCXI2' : 'basscenter N2', 'electricforestweek1' : 'electric forest W1', 'electricforestweek2' : 'electric forest W2', 'NYE360' : 'new years eve',\n",
    "                       'floatfest' : 'float fest', 'freestylesessionsnight1' : 'freestyle N1', 'freestylesessionsnight2' : 'freestyle N2', 'okeebeach' : 'Okeechobee beach set',\n",
    "                       'springgatheringnight1' : 'spring gathering N1',  'springgatheringnight2' : 'spring gathering N2', 'summermeltdown' : 'summer meltdown', \n",
    "                       'All Good' : 'All Good festival', 'Tomorrow World' : 'TomorrowWorld',  '> Coachella Weekend 1' : 'coachella W1', '> Coachella Weekend 2' : 'coachella W2',\n",
    "                        'allgood' : 'All Good festival'\n",
    "\n",
    "                      }})"
   ]
  },
  {
   "cell_type": "code",
   "execution_count": null,
   "metadata": {},
   "outputs": [],
   "source": [
    "df.to_csv('../Data/Processed/Master_setlists.xlsx')"
   ]
  },
  {
   "cell_type": "code",
   "execution_count": null,
   "metadata": {},
   "outputs": [],
   "source": []
  }
 ],
 "metadata": {
  "kernelspec": {
   "display_name": "Python 3",
   "language": "python",
   "name": "python3"
  },
  "language_info": {
   "codemirror_mode": {
    "name": "ipython",
    "version": 3
   },
   "file_extension": ".py",
   "mimetype": "text/x-python",
   "name": "python",
   "nbconvert_exporter": "python",
   "pygments_lexer": "ipython3",
   "version": "3.6.5"
  }
 },
 "nbformat": 4,
 "nbformat_minor": 4
}
